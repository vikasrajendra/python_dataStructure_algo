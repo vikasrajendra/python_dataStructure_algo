{
 "cells": [
  {
   "cell_type": "code",
   "execution_count": 35,
   "metadata": {
    "collapsed": true
   },
   "outputs": [],
   "source": [
    "def anagram(s1, s2):\n",
    "    s1 = s1.replace(' ', '')\n",
    "    s2 = s2.replace(' ', '')\n",
    "    \n",
    "    #edge case if length are not equal\n",
    "    if len(s1) != len(s2):\n",
    "        return False\n",
    "    \n",
    "    count = {}\n",
    "    \n",
    "    for letter in s1:\n",
    "        if letter in count:\n",
    "            count[letter] += 1\n",
    "        else:\n",
    "            count[letter] = 1\n",
    "            \n",
    "    for letter in s2:\n",
    "        if letter in count:\n",
    "            count[letter] -= 1\n",
    "        else:\n",
    "            count[letter] = 1\n",
    "            \n",
    "    for k in count:\n",
    "        if count[k] != 0:\n",
    "            return False\n",
    "    \n",
    "    return True"
   ]
  },
  {
   "cell_type": "code",
   "execution_count": 36,
   "metadata": {},
   "outputs": [
    {
     "data": {
      "text/plain": [
       "True"
      ]
     },
     "execution_count": 36,
     "metadata": {},
     "output_type": "execute_result"
    }
   ],
   "source": [
    "anagram('dog', 'god')"
   ]
  },
  {
   "cell_type": "code",
   "execution_count": 37,
   "metadata": {},
   "outputs": [
    {
     "data": {
      "text/plain": [
       "False"
      ]
     },
     "execution_count": 37,
     "metadata": {},
     "output_type": "execute_result"
    }
   ],
   "source": [
    "anagram('aa', 'bb')"
   ]
  },
  {
   "cell_type": "code",
   "execution_count": 39,
   "metadata": {},
   "outputs": [
    {
     "data": {
      "text/plain": [
       "False"
      ]
     },
     "execution_count": 39,
     "metadata": {},
     "output_type": "execute_result"
    }
   ],
   "source": [
    "anagram('cwlint eastwood', 'oldwest action')"
   ]
  },
  {
   "cell_type": "markdown",
   "metadata": {},
   "source": [
    "# Program for pair sum calculation\n"
   ]
  },
  {
   "cell_type": "code",
   "execution_count": 1,
   "metadata": {
    "collapsed": true
   },
   "outputs": [],
   "source": [
    "def pair_sum(arr, k):\n",
    "    \n",
    "    if len(arr) < 2:\n",
    "        return 'Input requires more elements to find a pair resulting in sum'\n",
    "    \n",
    "    seen = set()\n",
    "    output = set()\n",
    "    \n",
    "    for number in arr:\n",
    "        \n",
    "        target = k - number\n",
    "        \n",
    "        if target not in seen:\n",
    "            seen.add(number)\n",
    "        else:\n",
    "            output.add((min(number, target), max(number, target)))\n",
    "            \n",
    "    return output\n",
    "    "
   ]
  },
  {
   "cell_type": "code",
   "execution_count": 4,
   "metadata": {},
   "outputs": [
    {
     "name": "stdout",
     "output_type": "stream",
     "text": [
      "{(1, 3), (-1, 5), (2, 2)}\n"
     ]
    }
   ],
   "source": [
    "print(pair_sum([1, 3, 2, 2, 2, 5, -1, 3, 1], 4))"
   ]
  },
  {
   "cell_type": "markdown",
   "metadata": {},
   "source": [
    "## Reverse String"
   ]
  },
  {
   "cell_type": "code",
   "execution_count": 65,
   "metadata": {
    "collapsed": true
   },
   "outputs": [],
   "source": [
    "def reverse_number(number: int) -> int:\n",
    "    \n",
    "    reverse = 0\n",
    "    \n",
    "    while number > 0:\n",
    "        reverse = reverse * 10\n",
    "        reverse = reverse + (number % 10)\n",
    "        number //= 10\n",
    "    return reverse    "
   ]
  },
  {
   "cell_type": "code",
   "execution_count": 66,
   "metadata": {},
   "outputs": [
    {
     "name": "stdout",
     "output_type": "stream",
     "text": [
      "985\n"
     ]
    }
   ],
   "source": [
    "print(reverse_number(589))"
   ]
  },
  {
   "cell_type": "markdown",
   "metadata": {},
   "source": [
    "# Find the missing Input in the array"
   ]
  },
  {
   "cell_type": "code",
   "execution_count": 13,
   "metadata": {
    "collapsed": true
   },
   "outputs": [],
   "source": [
    "import collections\n",
    "\n",
    "def finder(arr1, arr2):\n",
    "    \n",
    "    d = collections.defaultdict(int)\n",
    "    \n",
    "    for num in arr2:\n",
    "        d[num] += 1\n",
    "        \n",
    "    for num in arr1:\n",
    "        if d[num] == 0:\n",
    "            return num\n",
    "        else:\n",
    "            d[num] -= 1\n",
    "    \n",
    "    \n",
    "    "
   ]
  },
  {
   "cell_type": "code",
   "execution_count": 28,
   "metadata": {},
   "outputs": [
    {
     "data": {
      "text/plain": [
       "5"
      ]
     },
     "execution_count": 28,
     "metadata": {},
     "output_type": "execute_result"
    }
   ],
   "source": [
    "arr1 = [5,5,7,3,7]\n",
    "arr2 = [5,7,7]\n",
    "\n",
    "finder(arr1, arr2)"
   ]
  },
  {
   "cell_type": "markdown",
   "metadata": {},
   "source": [
    "# Check number of circles in a given number"
   ]
  },
  {
   "cell_type": "code",
   "execution_count": 59,
   "metadata": {
    "collapsed": true
   },
   "outputs": [],
   "source": [
    "def count_of_circles_in_number(number: int)->int:\n",
    "    \n",
    "    circle_dict = {\n",
    "        0:1,\n",
    "        1:0,\n",
    "        2:0,\n",
    "        3:0,\n",
    "        4:0,\n",
    "        5:0,\n",
    "        6:1,\n",
    "        7:0,\n",
    "        8:2,\n",
    "        9:1\n",
    "    }\n",
    "    circle_count = 0\n",
    "    while number > 0:\n",
    "        digit = number % 10\n",
    "        if digit in circle_dict:\n",
    "            circle_count += circle_dict[digit]\n",
    "        number //= 10\n",
    "        \n",
    "    return circle_count"
   ]
  },
  {
   "cell_type": "code",
   "execution_count": 61,
   "metadata": {},
   "outputs": [
    {
     "data": {
      "text/plain": [
       "4"
      ]
     },
     "execution_count": 61,
     "metadata": {},
     "output_type": "execute_result"
    }
   ],
   "source": [
    "count_of_circles_in_number(968)"
   ]
  },
  {
   "cell_type": "markdown",
   "metadata": {},
   "source": [
    "# hourglass count"
   ]
  },
  {
   "cell_type": "code",
   "execution_count": 1,
   "metadata": {
    "collapsed": true
   },
   "outputs": [],
   "source": [
    "def hourglass_count(matrix: int) -> int:\n",
    "    count = 0\n",
    "    for i in range((len(matrix)-2)): #range() is from 0 to n-1, doesn't include the n value\n",
    "        for j in range((len(matrix)-2)):\n",
    "            if ((matrix[i][j]) and (matrix[i][j+1]) and (matrix[i][j+2]) and (matrix[i+1][j+1]) and (matrix[i+2][j]) and (matrix[i+2][j+1]) and (matrix[i+2][j+2])) == 1:\n",
    "                count += 1\n",
    "                   \n",
    "    \n",
    "    return count "
   ]
  },
  {
   "cell_type": "markdown",
   "metadata": {},
   "source": [
    "# Hourglass sum"
   ]
  },
  {
   "cell_type": "code",
   "execution_count": 2,
   "metadata": {
    "collapsed": true
   },
   "outputs": [],
   "source": [
    "def hourglass_sum(matrix: int) -> int:\n",
    "    final_max = 0\n",
    "    for i in range((len(matrix)-2)): #range() is from 0 to n-1, doesn't include the n value\n",
    "        for j in range((len(matrix)-2)):\n",
    "            cur_max = (matrix[i][j]) + (matrix[i][j+1]) + (matrix[i][j+2]) + (matrix[i+1][j+1]) + (matrix[i+2][j]) + (matrix[i+2][j+1]) + (matrix[i+2][j+2])\n",
    "            if cur_max < final_max:\n",
    "                final_max = cur_max\n",
    "    \n",
    "    return final_max "
   ]
  },
  {
   "cell_type": "markdown",
   "metadata": {},
   "source": [
    "# Largest continous sum"
   ]
  },
  {
   "cell_type": "code",
   "execution_count": 4,
   "metadata": {
    "collapsed": true
   },
   "outputs": [],
   "source": [
    "def maxSubArray( nums: int) -> int:\n",
    "        if nums == 0:\n",
    "            return 0\n",
    "        \n",
    "        current_sum = max_sum = nums[0]\n",
    "        \n",
    "        for num in nums[1:]:\n",
    "            \n",
    "            current_sum = max(current_sum + num, num)\n",
    "            \n",
    "            max_sum = max(current_sum, max_sum)\n",
    "            \n",
    "        return max_sum\n",
    "        "
   ]
  },
  {
   "cell_type": "markdown",
   "metadata": {},
   "source": [
    "# Reverse words"
   ]
  },
  {
   "cell_type": "code",
   "execution_count": 6,
   "metadata": {
    "collapsed": true
   },
   "outputs": [],
   "source": [
    "def rev_words(s):\n",
    "    words = []\n",
    "    length = len(s)\n",
    "    space = [' ']\n",
    "        \n",
    "    i = 0\n",
    "        \n",
    "    while i < length:\n",
    "            \n",
    "        if s[i] not in space:\n",
    "                \n",
    "            word_start = i\n",
    "                \n",
    "            while i < length and s[i] not in space:\n",
    "                  i += 1\n",
    "                \n",
    "            words.append(s[word_start:i])\n",
    "                \n",
    "            i += 1\n",
    "            \n",
    "        return \" \".join(reversed(words))"
   ]
  },
  {
   "cell_type": "markdown",
   "metadata": {},
   "source": [
    "# Pagination "
   ]
  },
  {
   "cell_type": "code",
   "execution_count": 1,
   "metadata": {},
   "outputs": [
    {
     "ename": "SyntaxError",
     "evalue": "invalid syntax (<ipython-input-1-5a072526bdde>, line 1)",
     "output_type": "error",
     "traceback": [
      "\u001b[1;36m  File \u001b[1;32m\"<ipython-input-1-5a072526bdde>\"\u001b[1;36m, line \u001b[1;32m1\u001b[0m\n\u001b[1;33m    def(list[[]],sort_parameter: int,sort_order: int, items_per_page: int, page_num: int)--> list[]:\u001b[0m\n\u001b[1;37m       ^\u001b[0m\n\u001b[1;31mSyntaxError\u001b[0m\u001b[1;31m:\u001b[0m invalid syntax\n"
     ]
    }
   ],
   "source": [
    "def (list[[]],sort_parameter: int,sort_order: int, items_per_page: int, page_num: int)--> list[]:\n",
    "    "
   ]
  },
  {
   "cell_type": "code",
   "execution_count": 65,
   "metadata": {
    "collapsed": true
   },
   "outputs": [],
   "source": [
    "import numpy as np\n",
    "\n",
    "def sort_per_parameter(arr,sort_parameter,sort_order,items_per_page, page_number):\n",
    "    \n",
    "    mat = np.array(arr)\n",
    "    \n",
    "    if sort_order == 0:\n",
    "        mat_sort = mat[mat[:,sort_parameter].argsort()]\n",
    "        \n",
    "    else:\n",
    "        \n",
    "        mat_sort = mat[mat[:,sort_parameter].argsort()[::-1]]\n",
    "        \n",
    "    start_index = page_number * items_per_page\n",
    "    \n",
    "    count = items_per_page\n",
    "    \n",
    "    i = start_index\n",
    "    \n",
    "    temp_arr = []\n",
    "    \n",
    "    while count > 0 and i < mat_sort.shape[1]:\n",
    "        \n",
    "        temp_arr.append(mat_sort[i,0])\n",
    "        \n",
    "        i += 1\n",
    "        \n",
    "        count -= 1\n",
    "        \n",
    "    return temp_arr   \n",
    "    "
   ]
  },
  {
   "cell_type": "code",
   "execution_count": 66,
   "metadata": {
    "collapsed": true
   },
   "outputs": [],
   "source": [
    "arr = [['vikas', 1 ,3,56],['akash',2,3,98],['shrikar',3,7,10]]"
   ]
  },
  {
   "cell_type": "code",
   "execution_count": 67,
   "metadata": {
    "collapsed": true
   },
   "outputs": [],
   "source": [
    "sort_parameter = 0\n",
    "sort_order = 0\n",
    "items_per_page = 1\n",
    "page_number = 0"
   ]
  },
  {
   "cell_type": "code",
   "execution_count": 68,
   "metadata": {},
   "outputs": [
    {
     "data": {
      "text/plain": [
       "['akash']"
      ]
     },
     "execution_count": 68,
     "metadata": {},
     "output_type": "execute_result"
    }
   ],
   "source": [
    "sort_per_parameter(arr,sort_parameter,sort_order,items_per_page,page_number)"
   ]
  },
  {
   "cell_type": "code",
   "execution_count": 17,
   "metadata": {
    "collapsed": true
   },
   "outputs": [],
   "source": [
    "def minimumTime(numOfParts, parts):\n",
    "    # WRITE YOUR CODE HERE\n",
    "    new_array = sorted(parts)\n",
    "    \n",
    "    sum = 0\n",
    "    \n",
    "    for i in range(0,numOfParts-1):\n",
    "        val = new_array[i] + new_array[i+1]\n",
    "        sum += val\n",
    "        new_array[i+1] = val\n",
    "    \n",
    "        \n",
    "    return sum    "
   ]
  },
  {
   "cell_type": "code",
   "execution_count": 18,
   "metadata": {},
   "outputs": [
    {
     "name": "stdout",
     "output_type": "stream",
     "text": [
      "54\n"
     ]
    }
   ],
   "source": [
    "print(minimumTime(4,[20,4,8,2]))"
   ]
  },
  {
   "cell_type": "code",
   "execution_count": 19,
   "metadata": {},
   "outputs": [
    {
     "ename": "IndentationError",
     "evalue": "unexpected indent (<ipython-input-19-be5fdda09167>, line 2)",
     "output_type": "error",
     "traceback": [
      "\u001b[1;36m  File \u001b[1;32m\"<ipython-input-19-be5fdda09167>\"\u001b[1;36m, line \u001b[1;32m2\u001b[0m\n\u001b[1;33m    forwardRouteList = sorted([x, i] for i,x in forwardRouteList)\u001b[0m\n\u001b[1;37m    ^\u001b[0m\n\u001b[1;31mIndentationError\u001b[0m\u001b[1;31m:\u001b[0m unexpected indent\n"
     ]
    }
   ],
   "source": [
    "res = [0, 0, 0]\n",
    "    forwardRouteList = sorted([x, i] for i,x in forwardRouteList)\n",
    "    for id, y in returnRouteList:\n",
    "        f = 0\n",
    "        end = len(forwardRouteList)\n",
    "        z = maxTravelDist - y\n",
    "        while f != end:\n",
    "            m = (f + end)/2\n",
    "            if forwardRouteList[m][0] <= z:\n",
    "                f = m+1\n",
    "            else:\n",
    "                end = m\n",
    "                \n",
    "        if f != 0 and y+forwardRouteList[f-1][0] > res[0]:\n",
    "            res = [y+forwardRouteList[f-1][0], forwardRouteList[f-1][1], id]\n",
    "    return res[1:]"
   ]
  },
  {
   "cell_type": "code",
   "execution_count": 1,
   "metadata": {},
   "outputs": [
    {
     "ename": "IndentationError",
     "evalue": "unindent does not match any outer indentation level (<tokenize>, line 3)",
     "output_type": "error",
     "traceback": [
      "\u001b[1;36m  File \u001b[1;32m\"<tokenize>\"\u001b[1;36m, line \u001b[1;32m3\u001b[0m\n\u001b[1;33m    elif numOfParts == 1:\u001b[0m\n\u001b[1;37m    ^\u001b[0m\n\u001b[1;31mIndentationError\u001b[0m\u001b[1;31m:\u001b[0m unindent does not match any outer indentation level\n"
     ]
    }
   ],
   "source": [
    " if numOfParts == 0:\n",
    "        return 0\n",
    "    elif numOfParts == 1:\n",
    "        return parts[0]\n",
    "        \n",
    "    new_array = sorted(parts)\n",
    "    \n",
    "    sum = 0\n",
    "    \n",
    "    for i in range(0, (numOfParts-1)):\n",
    "        val = new_array[i] + new_array[i+1]\n",
    "        sum += val\n",
    "        new_array[i+1] = val\n",
    "    \n",
    "    return sum"
   ]
  },
  {
   "cell_type": "code",
   "execution_count": null,
   "metadata": {
    "collapsed": true
   },
   "outputs": [],
   "source": []
  }
 ],
 "metadata": {
  "kernelspec": {
   "display_name": "Python 3",
   "language": "python",
   "name": "python3"
  },
  "language_info": {
   "codemirror_mode": {
    "name": "ipython",
    "version": 3
   },
   "file_extension": ".py",
   "mimetype": "text/x-python",
   "name": "python",
   "nbconvert_exporter": "python",
   "pygments_lexer": "ipython3",
   "version": "3.5.4"
  }
 },
 "nbformat": 4,
 "nbformat_minor": 2
}
